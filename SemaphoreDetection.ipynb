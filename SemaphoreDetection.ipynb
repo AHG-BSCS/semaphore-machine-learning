{
 "cells": [
  {
   "cell_type": "code",
   "execution_count": 1,
   "metadata": {},
   "outputs": [
    {
     "name": "stdout",
     "output_type": "stream",
     "text": [
      "c:\\Users\\Jhudiel\\OneDrive\\Documents\\Programming\\Python\\YOLOv6\n"
     ]
    },
    {
     "name": "stderr",
     "output_type": "stream",
     "text": [
      "Cloning into 'YOLOv6'...\n"
     ]
    },
    {
     "name": "stdout",
     "output_type": "stream",
     "text": [
      "Collecting torch>=1.8.0 (from -r requirements.txt (line 4))Note: you may need to restart the kernel to use updated packages.\n",
      "\n",
      "  Downloading torch-2.5.1-cp311-cp311-win_amd64.whl.metadata (28 kB)\n",
      "Collecting torchvision>=0.9.0 (from -r requirements.txt (line 5))\n",
      "  Downloading torchvision-0.20.1-cp311-cp311-win_amd64.whl.metadata (6.2 kB)\n",
      "Collecting numpy>=1.24.0 (from -r requirements.txt (line 6))\n",
      "  Downloading numpy-2.1.3-cp311-cp311-win_amd64.whl.metadata (60 kB)\n",
      "Collecting opencv-python>=4.1.2 (from -r requirements.txt (line 7))\n",
      "  Using cached opencv_python-4.10.0.84-cp37-abi3-win_amd64.whl.metadata (20 kB)\n",
      "Collecting PyYAML>=5.3.1 (from -r requirements.txt (line 8))\n",
      "  Downloading PyYAML-6.0.2-cp311-cp311-win_amd64.whl.metadata (2.1 kB)\n",
      "Collecting scipy>=1.4.1 (from -r requirements.txt (line 9))\n",
      "  Downloading scipy-1.14.1-cp311-cp311-win_amd64.whl.metadata (60 kB)\n",
      "Collecting tqdm>=4.41.0 (from -r requirements.txt (line 10))\n",
      "  Using cached tqdm-4.67.0-py3-none-any.whl.metadata (57 kB)\n",
      "Collecting addict>=2.4.0 (from -r requirements.txt (line 11))\n",
      "  Using cached addict-2.4.0-py3-none-any.whl.metadata (1.0 kB)\n",
      "Collecting tensorboard>=2.7.0 (from -r requirements.txt (line 12))\n",
      "  Using cached tensorboard-2.18.0-py3-none-any.whl.metadata (1.6 kB)\n",
      "Collecting pycocotools>=2.0 (from -r requirements.txt (line 13))\n",
      "  Downloading pycocotools-2.0.8-cp311-cp311-win_amd64.whl.metadata (1.1 kB)\n",
      "Collecting onnx>=1.10.0 (from -r requirements.txt (line 14))\n",
      "  Downloading onnx-1.17.0-cp311-cp311-win_amd64.whl.metadata (16 kB)\n",
      "Collecting onnx-simplifier>=0.3.6 (from -r requirements.txt (line 15))\n",
      "  Downloading onnx_simplifier-0.4.36-cp311-cp311-win_amd64.whl.metadata (4.4 kB)\n",
      "Collecting thop (from -r requirements.txt (line 16))\n",
      "  Using cached thop-0.1.1.post2209072238-py3-none-any.whl.metadata (2.7 kB)\n",
      "Collecting filelock (from torch>=1.8.0->-r requirements.txt (line 4))\n",
      "  Using cached filelock-3.16.1-py3-none-any.whl.metadata (2.9 kB)\n",
      "Requirement already satisfied: typing-extensions>=4.8.0 in c:\\users\\jhudiel\\onedrive\\documents\\programming\\python\\.conda\\lib\\site-packages (from torch>=1.8.0->-r requirements.txt (line 4)) (4.12.2)\n",
      "Collecting networkx (from torch>=1.8.0->-r requirements.txt (line 4))\n",
      "  Using cached networkx-3.4.2-py3-none-any.whl.metadata (6.3 kB)\n",
      "Collecting jinja2 (from torch>=1.8.0->-r requirements.txt (line 4))\n",
      "  Using cached jinja2-3.1.4-py3-none-any.whl.metadata (2.6 kB)\n",
      "Collecting fsspec (from torch>=1.8.0->-r requirements.txt (line 4))\n",
      "  Using cached fsspec-2024.10.0-py3-none-any.whl.metadata (11 kB)\n",
      "Collecting sympy==1.13.1 (from torch>=1.8.0->-r requirements.txt (line 4))\n",
      "  Using cached sympy-1.13.1-py3-none-any.whl.metadata (12 kB)\n",
      "Collecting mpmath<1.4,>=1.1.0 (from sympy==1.13.1->torch>=1.8.0->-r requirements.txt (line 4))\n",
      "  Using cached mpmath-1.3.0-py3-none-any.whl.metadata (8.6 kB)\n",
      "Collecting pillow!=8.3.*,>=5.3.0 (from torchvision>=0.9.0->-r requirements.txt (line 5))\n",
      "  Downloading pillow-11.0.0-cp311-cp311-win_amd64.whl.metadata (9.3 kB)\n",
      "Requirement already satisfied: colorama in c:\\users\\jhudiel\\onedrive\\documents\\programming\\python\\.conda\\lib\\site-packages (from tqdm>=4.41.0->-r requirements.txt (line 10)) (0.4.6)\n",
      "Collecting absl-py>=0.4 (from tensorboard>=2.7.0->-r requirements.txt (line 12))\n",
      "  Using cached absl_py-2.1.0-py3-none-any.whl.metadata (2.3 kB)\n",
      "Collecting grpcio>=1.48.2 (from tensorboard>=2.7.0->-r requirements.txt (line 12))\n",
      "  Downloading grpcio-1.67.1-cp311-cp311-win_amd64.whl.metadata (4.0 kB)\n",
      "Collecting markdown>=2.6.8 (from tensorboard>=2.7.0->-r requirements.txt (line 12))\n",
      "  Using cached Markdown-3.7-py3-none-any.whl.metadata (7.0 kB)\n",
      "Requirement already satisfied: packaging in c:\\users\\jhudiel\\onedrive\\documents\\programming\\python\\.conda\\lib\\site-packages (from tensorboard>=2.7.0->-r requirements.txt (line 12)) (24.2)\n",
      "Collecting protobuf!=4.24.0,>=3.19.6 (from tensorboard>=2.7.0->-r requirements.txt (line 12))\n",
      "  Using cached protobuf-5.28.3-cp310-abi3-win_amd64.whl.metadata (592 bytes)\n",
      "Requirement already satisfied: setuptools>=41.0.0 in c:\\users\\jhudiel\\onedrive\\documents\\programming\\python\\.conda\\lib\\site-packages (from tensorboard>=2.7.0->-r requirements.txt (line 12)) (75.3.0)\n",
      "Requirement already satisfied: six>1.9 in c:\\users\\jhudiel\\onedrive\\documents\\programming\\python\\.conda\\lib\\site-packages (from tensorboard>=2.7.0->-r requirements.txt (line 12)) (1.16.0)\n",
      "Collecting tensorboard-data-server<0.8.0,>=0.7.0 (from tensorboard>=2.7.0->-r requirements.txt (line 12))\n",
      "  Using cached tensorboard_data_server-0.7.2-py3-none-any.whl.metadata (1.1 kB)\n",
      "Collecting werkzeug>=1.0.1 (from tensorboard>=2.7.0->-r requirements.txt (line 12))\n",
      "  Using cached werkzeug-3.1.3-py3-none-any.whl.metadata (3.7 kB)\n",
      "Collecting matplotlib>=2.1.0 (from pycocotools>=2.0->-r requirements.txt (line 13))\n",
      "  Downloading matplotlib-3.9.2-cp311-cp311-win_amd64.whl.metadata (11 kB)\n",
      "Collecting rich (from onnx-simplifier>=0.3.6->-r requirements.txt (line 15))\n",
      "  Using cached rich-13.9.4-py3-none-any.whl.metadata (18 kB)\n",
      "Collecting contourpy>=1.0.1 (from matplotlib>=2.1.0->pycocotools>=2.0->-r requirements.txt (line 13))\n",
      "  Downloading contourpy-1.3.1-cp311-cp311-win_amd64.whl.metadata (5.4 kB)\n",
      "Collecting cycler>=0.10 (from matplotlib>=2.1.0->pycocotools>=2.0->-r requirements.txt (line 13))\n",
      "  Using cached cycler-0.12.1-py3-none-any.whl.metadata (3.8 kB)\n",
      "Collecting fonttools>=4.22.0 (from matplotlib>=2.1.0->pycocotools>=2.0->-r requirements.txt (line 13))\n",
      "  Downloading fonttools-4.54.1-cp311-cp311-win_amd64.whl.metadata (167 kB)\n",
      "Collecting kiwisolver>=1.3.1 (from matplotlib>=2.1.0->pycocotools>=2.0->-r requirements.txt (line 13))\n",
      "  Downloading kiwisolver-1.4.7-cp311-cp311-win_amd64.whl.metadata (6.4 kB)\n",
      "Collecting pyparsing>=2.3.1 (from matplotlib>=2.1.0->pycocotools>=2.0->-r requirements.txt (line 13))\n",
      "  Downloading pyparsing-3.2.0-py3-none-any.whl.metadata (5.0 kB)\n",
      "Requirement already satisfied: python-dateutil>=2.7 in c:\\users\\jhudiel\\onedrive\\documents\\programming\\python\\.conda\\lib\\site-packages (from matplotlib>=2.1.0->pycocotools>=2.0->-r requirements.txt (line 13)) (2.9.0)\n",
      "Collecting MarkupSafe>=2.1.1 (from werkzeug>=1.0.1->tensorboard>=2.7.0->-r requirements.txt (line 12))\n",
      "  Downloading MarkupSafe-3.0.2-cp311-cp311-win_amd64.whl.metadata (4.1 kB)\n",
      "Collecting markdown-it-py>=2.2.0 (from rich->onnx-simplifier>=0.3.6->-r requirements.txt (line 15))\n",
      "  Using cached markdown_it_py-3.0.0-py3-none-any.whl.metadata (6.9 kB)\n",
      "Requirement already satisfied: pygments<3.0.0,>=2.13.0 in c:\\users\\jhudiel\\onedrive\\documents\\programming\\python\\.conda\\lib\\site-packages (from rich->onnx-simplifier>=0.3.6->-r requirements.txt (line 15)) (2.18.0)\n",
      "Collecting mdurl~=0.1 (from markdown-it-py>=2.2.0->rich->onnx-simplifier>=0.3.6->-r requirements.txt (line 15))\n",
      "  Using cached mdurl-0.1.2-py3-none-any.whl.metadata (1.6 kB)\n",
      "Downloading torch-2.5.1-cp311-cp311-win_amd64.whl (203.1 MB)\n",
      "   ---------------------------------------- 0.0/203.1 MB ? eta -:--:--\n",
      "   - -------------------------------------- 7.1/203.1 MB 36.3 MB/s eta 0:00:06\n",
      "   -- ------------------------------------- 13.9/203.1 MB 34.9 MB/s eta 0:00:06\n",
      "   ---- ----------------------------------- 20.7/203.1 MB 34.4 MB/s eta 0:00:06\n",
      "   ----- ---------------------------------- 27.5/203.1 MB 34.2 MB/s eta 0:00:06\n",
      "   ------ --------------------------------- 34.3/203.1 MB 33.5 MB/s eta 0:00:06\n",
      "   -------- ------------------------------- 41.2/203.1 MB 33.5 MB/s eta 0:00:05\n",
      "   --------- ------------------------------ 48.2/203.1 MB 33.7 MB/s eta 0:00:05\n",
      "   ---------- ----------------------------- 55.1/203.1 MB 33.7 MB/s eta 0:00:05\n",
      "   ------------ --------------------------- 62.1/203.1 MB 33.8 MB/s eta 0:00:05\n",
      "   ------------- -------------------------- 68.9/203.1 MB 33.6 MB/s eta 0:00:04\n",
      "   --------------- ------------------------ 76.3/203.1 MB 33.8 MB/s eta 0:00:04\n",
      "   ---------------- ----------------------- 83.4/203.1 MB 33.7 MB/s eta 0:00:04\n",
      "   ----------------- ---------------------- 90.7/203.1 MB 33.6 MB/s eta 0:00:04\n",
      "   ------------------- -------------------- 97.8/203.1 MB 33.7 MB/s eta 0:00:04\n",
      "   -------------------- ------------------ 104.6/203.1 MB 33.7 MB/s eta 0:00:03\n",
      "   --------------------- ----------------- 111.9/203.1 MB 33.7 MB/s eta 0:00:03\n",
      "   ---------------------- ---------------- 119.5/203.1 MB 33.8 MB/s eta 0:00:03\n",
      "   ------------------------ -------------- 126.6/203.1 MB 33.7 MB/s eta 0:00:03\n",
      "   ------------------------- ------------- 134.0/203.1 MB 33.7 MB/s eta 0:00:03\n",
      "   --------------------------- ----------- 141.6/203.1 MB 33.7 MB/s eta 0:00:02\n",
      "   ---------------------------- ---------- 148.9/203.1 MB 33.9 MB/s eta 0:00:02\n",
      "   ------------------------------ -------- 156.2/203.1 MB 33.7 MB/s eta 0:00:02\n",
      "   ------------------------------- ------- 163.6/203.1 MB 33.8 MB/s eta 0:00:02\n",
      "   -------------------------------- ------ 170.9/203.1 MB 33.8 MB/s eta 0:00:01\n",
      "   ---------------------------------- ---- 178.0/203.1 MB 33.8 MB/s eta 0:00:01\n",
      "   ----------------------------------- --- 185.3/203.1 MB 33.7 MB/s eta 0:00:01\n",
      "   ------------------------------------ -- 192.7/203.1 MB 33.7 MB/s eta 0:00:01\n",
      "   --------------------------------------  200.0/203.1 MB 33.7 MB/s eta 0:00:01\n",
      "   --------------------------------------  202.9/203.1 MB 33.8 MB/s eta 0:00:01\n",
      "   --------------------------------------  202.9/203.1 MB 33.8 MB/s eta 0:00:01\n",
      "   --------------------------------------- 203.1/203.1 MB 31.1 MB/s eta 0:00:00\n",
      "Using cached sympy-1.13.1-py3-none-any.whl (6.2 MB)\n",
      "Downloading torchvision-0.20.1-cp311-cp311-win_amd64.whl (1.6 MB)\n",
      "   ---------------------------------------- 0.0/1.6 MB ? eta -:--:--\n",
      "   ---------------------------------------- 1.6/1.6 MB 27.7 MB/s eta 0:00:00\n",
      "Downloading numpy-2.1.3-cp311-cp311-win_amd64.whl (12.9 MB)\n",
      "   ---------------------------------------- 0.0/12.9 MB ? eta -:--:--\n",
      "   --------------------- ------------------ 7.1/12.9 MB 36.3 MB/s eta 0:00:01\n",
      "   ---------------------------------------- 12.9/12.9 MB 32.2 MB/s eta 0:00:00\n",
      "Using cached opencv_python-4.10.0.84-cp37-abi3-win_amd64.whl (38.8 MB)\n",
      "Downloading PyYAML-6.0.2-cp311-cp311-win_amd64.whl (161 kB)\n",
      "Downloading scipy-1.14.1-cp311-cp311-win_amd64.whl (44.8 MB)\n",
      "   ---------------------------------------- 0.0/44.8 MB ? eta -:--:--\n",
      "   ----- ---------------------------------- 6.3/44.8 MB 32.2 MB/s eta 0:00:02\n",
      "   ------------ --------------------------- 13.6/44.8 MB 32.9 MB/s eta 0:00:01\n",
      "   ------------------ --------------------- 20.2/44.8 MB 32.7 MB/s eta 0:00:01\n",
      "   ------------------------ --------------- 27.3/44.8 MB 32.6 MB/s eta 0:00:01\n",
      "   ------------------------------ --------- 33.8/44.8 MB 33.1 MB/s eta 0:00:01\n",
      "   ------------------------------------ --- 41.2/44.8 MB 33.1 MB/s eta 0:00:01\n",
      "   ---------------------------------------  44.6/44.8 MB 33.0 MB/s eta 0:00:01\n",
      "   ---------------------------------------- 44.8/44.8 MB 30.3 MB/s eta 0:00:00\n",
      "Using cached tqdm-4.67.0-py3-none-any.whl (78 kB)\n",
      "Using cached addict-2.4.0-py3-none-any.whl (3.8 kB)\n",
      "Using cached tensorboard-2.18.0-py3-none-any.whl (5.5 MB)\n",
      "Downloading pycocotools-2.0.8-cp311-cp311-win_amd64.whl (85 kB)\n",
      "Downloading onnx-1.17.0-cp311-cp311-win_amd64.whl (14.5 MB)\n",
      "   ---------------------------------------- 0.0/14.5 MB ? eta -:--:--\n",
      "   ------------------ --------------------- 6.6/14.5 MB 31.0 MB/s eta 0:00:01\n",
      "   -------------------------------------- - 13.9/14.5 MB 32.3 MB/s eta 0:00:01\n",
      "   ---------------------------------------- 14.5/14.5 MB 31.5 MB/s eta 0:00:00\n",
      "Downloading onnx_simplifier-0.4.36-cp311-cp311-win_amd64.whl (1.3 MB)\n",
      "   ---------------------------------------- 0.0/1.3 MB ? eta -:--:--\n",
      "   ---------------------------------------- 1.3/1.3 MB 33.1 MB/s eta 0:00:00\n",
      "Using cached thop-0.1.1.post2209072238-py3-none-any.whl (15 kB)\n",
      "Using cached absl_py-2.1.0-py3-none-any.whl (133 kB)\n",
      "Downloading grpcio-1.67.1-cp311-cp311-win_amd64.whl (4.4 MB)\n",
      "   ---------------------------------------- 0.0/4.4 MB ? eta -:--:--\n",
      "   ---------------------------------------- 4.4/4.4 MB 29.0 MB/s eta 0:00:00\n",
      "Using cached Markdown-3.7-py3-none-any.whl (106 kB)\n",
      "Downloading matplotlib-3.9.2-cp311-cp311-win_amd64.whl (7.8 MB)\n",
      "   ---------------------------------------- 0.0/7.8 MB ? eta -:--:--\n",
      "   ---------------------------------- ----- 6.8/7.8 MB 34.9 MB/s eta 0:00:01\n",
      "   ---------------------------------------- 7.8/7.8 MB 32.3 MB/s eta 0:00:00\n",
      "Downloading pillow-11.0.0-cp311-cp311-win_amd64.whl (2.6 MB)\n",
      "   ---------------------------------------- 0.0/2.6 MB ? eta -:--:--\n",
      "   ---------------------------------------- 2.6/2.6 MB 29.5 MB/s eta 0:00:00\n",
      "Using cached protobuf-5.28.3-cp310-abi3-win_amd64.whl (431 kB)\n",
      "Using cached tensorboard_data_server-0.7.2-py3-none-any.whl (2.4 kB)\n",
      "Using cached werkzeug-3.1.3-py3-none-any.whl (224 kB)\n",
      "Using cached filelock-3.16.1-py3-none-any.whl (16 kB)\n",
      "Using cached fsspec-2024.10.0-py3-none-any.whl (179 kB)\n",
      "Using cached jinja2-3.1.4-py3-none-any.whl (133 kB)\n",
      "Using cached networkx-3.4.2-py3-none-any.whl (1.7 MB)\n",
      "Using cached rich-13.9.4-py3-none-any.whl (242 kB)\n",
      "Downloading contourpy-1.3.1-cp311-cp311-win_amd64.whl (219 kB)\n",
      "Using cached cycler-0.12.1-py3-none-any.whl (8.3 kB)\n",
      "Downloading fonttools-4.54.1-cp311-cp311-win_amd64.whl (2.2 MB)\n",
      "   ---------------------------------------- 0.0/2.2 MB ? eta -:--:--\n",
      "   ---------------------------------------- 2.2/2.2 MB 30.9 MB/s eta 0:00:00\n",
      "Downloading kiwisolver-1.4.7-cp311-cp311-win_amd64.whl (56 kB)\n",
      "Using cached markdown_it_py-3.0.0-py3-none-any.whl (87 kB)\n",
      "Downloading MarkupSafe-3.0.2-cp311-cp311-win_amd64.whl (15 kB)\n",
      "Using cached mpmath-1.3.0-py3-none-any.whl (536 kB)\n",
      "Downloading pyparsing-3.2.0-py3-none-any.whl (106 kB)\n",
      "Using cached mdurl-0.1.2-py3-none-any.whl (10.0 kB)\n",
      "Installing collected packages: mpmath, addict, tqdm, tensorboard-data-server, sympy, PyYAML, pyparsing, protobuf, pillow, numpy, networkx, mdurl, MarkupSafe, markdown, kiwisolver, grpcio, fsspec, fonttools, filelock, cycler, absl-py, werkzeug, scipy, opencv-python, onnx, markdown-it-py, jinja2, contourpy, torch, tensorboard, rich, matplotlib, torchvision, thop, pycocotools, onnx-simplifier\n",
      "Successfully installed MarkupSafe-3.0.2 PyYAML-6.0.2 absl-py-2.1.0 addict-2.4.0 contourpy-1.3.1 cycler-0.12.1 filelock-3.16.1 fonttools-4.54.1 fsspec-2024.10.0 grpcio-1.67.1 jinja2-3.1.4 kiwisolver-1.4.7 markdown-3.7 markdown-it-py-3.0.0 matplotlib-3.9.2 mdurl-0.1.2 mpmath-1.3.0 networkx-3.4.2 numpy-2.1.3 onnx-1.17.0 onnx-simplifier-0.4.36 opencv-python-4.10.0.84 pillow-11.0.0 protobuf-5.28.3 pycocotools-2.0.8 pyparsing-3.2.0 rich-13.9.4 scipy-1.14.1 sympy-1.13.1 tensorboard-2.18.0 tensorboard-data-server-0.7.2 thop-0.1.1.post2209072238 torch-2.5.1 torchvision-0.20.1 tqdm-4.67.0 werkzeug-3.1.3\n"
     ]
    }
   ],
   "source": [
    "!git clone https://github.com/meituan/YOLOv6.git\n",
    "%cd YOLOv6\n",
    "%pip install -r requirements.txt\n",
    "%pip install requests"
   ]
  },
  {
   "cell_type": "code",
   "execution_count": 7,
   "metadata": {},
   "outputs": [
    {
     "name": "stdout",
     "output_type": "stream",
     "text": [
      "Collecting requestsNote: you may need to restart the kernel to use updated packages.\n",
      "\n",
      "  Using cached requests-2.32.3-py3-none-any.whl.metadata (4.6 kB)\n",
      "Collecting charset-normalizer<4,>=2 (from requests)\n",
      "  Downloading charset_normalizer-3.4.0-cp311-cp311-win_amd64.whl.metadata (34 kB)\n",
      "Collecting idna<4,>=2.5 (from requests)\n",
      "  Using cached idna-3.10-py3-none-any.whl.metadata (10 kB)\n",
      "Collecting urllib3<3,>=1.21.1 (from requests)\n",
      "  Using cached urllib3-2.2.3-py3-none-any.whl.metadata (6.5 kB)\n",
      "Collecting certifi>=2017.4.17 (from requests)\n",
      "  Using cached certifi-2024.8.30-py3-none-any.whl.metadata (2.2 kB)\n",
      "Using cached requests-2.32.3-py3-none-any.whl (64 kB)\n",
      "Using cached certifi-2024.8.30-py3-none-any.whl (167 kB)\n",
      "Downloading charset_normalizer-3.4.0-cp311-cp311-win_amd64.whl (101 kB)\n",
      "Using cached idna-3.10-py3-none-any.whl (70 kB)\n",
      "Using cached urllib3-2.2.3-py3-none-any.whl (126 kB)\n",
      "Installing collected packages: urllib3, idna, charset-normalizer, certifi, requests\n",
      "Successfully installed certifi-2024.8.30 charset-normalizer-3.4.0 idna-3.10 requests-2.32.3 urllib3-2.2.3\n"
     ]
    }
   ],
   "source": [
    "import os\n",
    "import torch\n",
    "import cv2"
   ]
  },
  {
   "cell_type": "code",
   "execution_count": 20,
   "metadata": {},
   "outputs": [],
   "source": [
    "#Training\n",
    "!python tools/train.py --batch 32 --conf configs/yolov6s.py --epochs 100 --img-size 416 --data ../dataset/data.yaml --device cpu"
   ]
  },
  {
   "cell_type": "code",
   "execution_count": 4,
   "metadata": {},
   "outputs": [
    {
     "name": "stderr",
     "output_type": "stream",
     "text": [
      "Traceback (most recent call last):\n",
      "  File \"c:\\Users\\Jhudiel\\OneDrive\\Documents\\Programming\\Python\\YOLOv6\\tools\\eval.py\", line 13, in <module>\n",
      "    from yolov6.core.evaler import Evaler\n",
      "  File \"c:\\Users\\Jhudiel\\OneDrive\\Documents\\Programming\\Python\\YOLOv6\\yolov6\\core\\evaler.py\", line 17, in <module>\n",
      "    from yolov6.utils.general import download_ckpt\n",
      "  File \"c:\\Users\\Jhudiel\\OneDrive\\Documents\\Programming\\Python\\YOLOv6\\yolov6\\utils\\general.py\", line 7, in <module>\n",
      "    import requests\n",
      "ModuleNotFoundError: No module named 'requests'\n"
     ]
    },
    {
     "ename": "",
     "evalue": "",
     "output_type": "error",
     "traceback": [
      "\u001b[1;31mnotebook controller is DISPOSED. \n",
      "\u001b[1;31mView Jupyter <a href='command:jupyter.viewOutput'>log</a> for further details."
     ]
    }
   ],
   "source": [
    "#Evaluation\n",
    "!python tools/eval.py --data ../dataset/data.yaml --img-size 416 --weights runs/train/exp/weights/best_ckpt.pt --device cpu"
   ]
  },
  {
   "cell_type": "code",
   "execution_count": 5,
   "metadata": {},
   "outputs": [
    {
     "name": "stderr",
     "output_type": "stream",
     "text": [
      "Traceback (most recent call last):\n",
      "  File \"c:\\Users\\Jhudiel\\OneDrive\\Documents\\Programming\\Python\\YOLOv6\\tools\\infer.py\", line 15, in <module>\n",
      "    from yolov6.core.inferer import Inferer\n",
      "  File \"c:\\Users\\Jhudiel\\OneDrive\\Documents\\Programming\\Python\\YOLOv6\\yolov6\\core\\inferer.py\", line 17, in <module>\n",
      "    from yolov6.layers.common import DetectBackend\n",
      "  File \"c:\\Users\\Jhudiel\\OneDrive\\Documents\\Programming\\Python\\YOLOv6\\yolov6\\layers\\common.py\", line 11, in <module>\n",
      "    from yolov6.utils.general import download_ckpt\n",
      "  File \"c:\\Users\\Jhudiel\\OneDrive\\Documents\\Programming\\Python\\YOLOv6\\yolov6\\utils\\general.py\", line 7, in <module>\n",
      "    import requests\n",
      "ModuleNotFoundError: No module named 'requests'\n"
     ]
    }
   ],
   "source": [
    "#Infer images from test directory\n",
    "!python tools/infer.py --yaml ../dataset/data.yaml --img-size 416 --weights runs/train/exp/weights/best_ckpt.pt --source ../dataset/images/test/ --device cpu"
   ]
  },
  {
   "cell_type": "code",
   "execution_count": null,
   "metadata": {},
   "outputs": [],
   "source": [
    "#Display test inference result images\n",
    "import glob\n",
    "from IPython.display import Image, display\n",
    "\n",
    "i = 0\n",
    "limit = 3\n",
    "for imageName in glob.glob('/runs/inference/exp/*.jpg'):\n",
    "    if i < limit:\n",
    "      display(Image(filename=imageName))\n",
    "      print(\"\\n\\n\")\n",
    "    i = i + 1"
   ]
  },
  {
   "cell_type": "code",
   "execution_count": null,
   "metadata": {},
   "outputs": [
    {
     "ename": "",
     "evalue": "",
     "output_type": "error",
     "traceback": [
      "\u001b[1;31mnotebook controller is DISPOSED. \n",
      "\u001b[1;31mView Jupyter <a href='command:jupyter.viewOutput'>log</a> for further details."
     ]
    },
    {
     "ename": "",
     "evalue": "",
     "output_type": "error",
     "traceback": [
      "\u001b[1;31mnotebook controller is DISPOSED. \n",
      "\u001b[1;31mView Jupyter <a href='command:jupyter.viewOutput'>log</a> for further details."
     ]
    }
   ],
   "source": [
    "#Export to ONNX format for deployment\n",
    "!python deploy/ONNX/export_onnx.py --weights runs/train/exp/weights/best_ckpt.pt --device cpu"
   ]
  },
  {
   "cell_type": "code",
   "execution_count": null,
   "metadata": {},
   "outputs": [],
   "source": []
  }
 ],
 "metadata": {
  "kernelspec": {
   "display_name": "Python 3",
   "language": "python",
   "name": "python3"
  },
  "language_info": {
   "codemirror_mode": {
    "name": "ipython",
    "version": 3
   },
   "file_extension": ".py",
   "mimetype": "text/x-python",
   "name": "python",
   "nbconvert_exporter": "python",
   "pygments_lexer": "ipython3",
   "version": "3.11.10"
  }
 },
 "nbformat": 4,
 "nbformat_minor": 2
}
